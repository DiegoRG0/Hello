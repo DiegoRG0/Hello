{
 "cells": [
  {
   "cell_type": "markdown",
   "id": "b2bd0907",
   "metadata": {},
   "source": [
    "# Presentación"
   ]
  },
  {
   "cell_type": "markdown",
   "id": "b16593c0",
   "metadata": {},
   "source": [
    "## Mi nombre es Diego Ruiz González"
   ]
  },
  {
   "cell_type": "markdown",
   "id": "05e064c5",
   "metadata": {},
   "source": [
    "Mi carrera es Ingeneria Financiera, y me apaciona mucho la bolsa de valores y el tema de las inversiones. \n",
    "\n",
    "Para poder ayudarme en un futuro para poder incrementar y maximizar mi capital. Poder entender graficas y datos para llegar a mejores conclusiones y tener una buena toma de decisiones."
   ]
  },
  {
   "cell_type": "markdown",
   "id": "6d05b4a2",
   "metadata": {},
   "source": [
    "*Mi hobbie favorito es pasar tiempo con mis amigos y mi novia* "
   ]
  },
  {
   "cell_type": "markdown",
   "id": "a2580036",
   "metadata": {},
   "source": [
    "**Tambien disfruto mucho de aprender cosas nuevas y superarme dia a dia**"
   ]
  },
  {
   "cell_type": "markdown",
   "id": "57517375",
   "metadata": {},
   "source": [
    "![](https://www.shutterstock.com/image-vector/money-bag-flat-illustration-dollars-260nw-1927192892.jpg)"
   ]
  },
  {
   "cell_type": "markdown",
   "id": "ecc828ae",
   "metadata": {},
   "source": [
    "Referencias:\n",
    "- (n.d.). https://www.shutterstock.com/image-vector/money-bag-flat-illustration-dollars-260nw-1927192892.jpg. "
   ]
  },
  {
   "cell_type": "markdown",
   "id": "57b48707",
   "metadata": {},
   "source": [
    "Mi comida favorita es:\n",
    "1. Sushi\n",
    "2. Carne\n",
    "3. Pasta"
   ]
  },
  {
   "cell_type": "markdown",
   "id": "11af7aa0",
   "metadata": {},
   "source": [
    "Mis viajes favoritos son:\n",
    "- Cancun\n",
    "- Vallarta\n",
    "- San Diego"
   ]
  },
  {
   "cell_type": "markdown",
   "id": "9047edd3",
   "metadata": {},
   "source": [
    "$Y=5$"
   ]
  }
 ],
 "metadata": {
  "kernelspec": {
   "display_name": "Python 3 (ipykernel)",
   "language": "python",
   "name": "python3"
  },
  "language_info": {
   "codemirror_mode": {
    "name": "ipython",
    "version": 3
   },
   "file_extension": ".py",
   "mimetype": "text/x-python",
   "name": "python",
   "nbconvert_exporter": "python",
   "pygments_lexer": "ipython3",
   "version": "3.9.13"
  }
 },
 "nbformat": 4,
 "nbformat_minor": 5
}
